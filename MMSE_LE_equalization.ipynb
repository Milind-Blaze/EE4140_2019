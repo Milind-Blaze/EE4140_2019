{
 "cells": [
  {
   "cell_type": "markdown",
   "metadata": {},
   "source": [
    "# FIR MMSE-LE equalization"
   ]
  },
  {
   "cell_type": "code",
   "execution_count": 1,
   "metadata": {},
   "outputs": [],
   "source": [
    "import numpy as np"
   ]
  },
  {
   "cell_type": "code",
   "execution_count": 85,
   "metadata": {},
   "outputs": [],
   "source": [
    "Nf = 4\n",
    "delta = 0\n",
    "v = 1\n",
    "epsilon = 1\n",
    "sigma2 = 0.97/(10**1.2)\n",
    "Rnn = np.identity(Nf)"
   ]
  },
  {
   "cell_type": "code",
   "execution_count": 86,
   "metadata": {},
   "outputs": [
    {
     "name": "stdout",
     "output_type": "stream",
     "text": [
      "[[ 0.9 -0.4  0.   0.   0. ]\n",
      " [ 0.   0.9 -0.4  0.   0. ]\n",
      " [ 0.   0.   0.9 -0.4  0. ]\n",
      " [ 0.   0.   0.   0.9 -0.4]]\n",
      "Shapes match: True\n"
     ]
    }
   ],
   "source": [
    "# create P matri\n",
    "\n",
    "P = np.array([[0.9, -0.4, 0, 0, 0], [0, 0.9, -0.4, 0, 0], [0, 0, 0.9, -0.4, 0], [0, 0, 0, 0.9, -0.4]])\n",
    "print(P)\n",
    "print(\"Shapes match:\",np.shape(P) == (Nf, Nf + v))"
   ]
  },
  {
   "cell_type": "code",
   "execution_count": 94,
   "metadata": {},
   "outputs": [
    {
     "name": "stdout",
     "output_type": "stream",
     "text": [
      "[ 1.38923578  1.41372959  1.68546487  3.34711226 13.38604448]\n"
     ]
    }
   ],
   "source": [
    "# computing matrix to find the optimal delta\n",
    "M = np.dot(P.T, np.dot(np.linalg.inv(Rnn), P)) + (sigma2/epsilon)*np.identity(Nf + v)\n",
    "print(np.linalg.inv(M).diagonal())"
   ]
  },
  {
   "cell_type": "code",
   "execution_count": 88,
   "metadata": {},
   "outputs": [
    {
     "data": {
      "text/plain": [
       "array([[ 1.03120286, -0.36      ,  0.        ,  0.        ],\n",
       "       [-0.36      ,  1.03120286, -0.36      ,  0.        ],\n",
       "       [ 0.        , -0.36      ,  1.03120286, -0.36      ],\n",
       "       [ 0.        ,  0.        , -0.36      ,  1.03120286]])"
      ]
     },
     "execution_count": 88,
     "metadata": {},
     "output_type": "execute_result"
    }
   ],
   "source": [
    "# find Ryy\n",
    "ryy = (epsilon*np.dot(P,P.T) + sigma2*Rnn)\n",
    "ryy"
   ]
  },
  {
   "cell_type": "code",
   "execution_count": 89,
   "metadata": {},
   "outputs": [
    {
     "name": "stdout",
     "output_type": "stream",
     "text": [
      "[[0.9 0.  0.  0. ]]\n"
     ]
    }
   ],
   "source": [
    "# finding rx\n",
    "rx = epsilon*P[:, delta]\n",
    "rx = rx[np.newaxis, :]\n",
    "print(rx)"
   ]
  },
  {
   "cell_type": "code",
   "execution_count": 90,
   "metadata": {},
   "outputs": [
    {
     "name": "stdout",
     "output_type": "stream",
     "text": [
      "[[1.01663866 0.41211304 0.16383954 0.05719751]]\n"
     ]
    }
   ],
   "source": [
    "# finding w\n",
    "w = np.dot(rx, np.linalg.inv(ryy))\n",
    "print(w)"
   ]
  },
  {
   "cell_type": "code",
   "execution_count": 91,
   "metadata": {},
   "outputs": [
    {
     "name": "stdout",
     "output_type": "stream",
     "text": [
      "[[0.08502521]]\n"
     ]
    }
   ],
   "source": [
    "# finding sigma2_MMSE-LE\n",
    "sigma_mmse = epsilon - np.dot(w,rx.T)\n",
    "print(sigma_mmse)"
   ]
  },
  {
   "cell_type": "code",
   "execution_count": 92,
   "metadata": {},
   "outputs": [
    {
     "name": "stdout",
     "output_type": "stream",
     "text": [
      "[[ 0.91497479 -0.03575372 -0.01738964 -0.01405806 -0.022879  ]]\n",
      "Maximum gain for x_{k-delta}: True\n"
     ]
    }
   ],
   "source": [
    "# finding coefficients of x_ks\n",
    "xk_coeffs = np.dot(w,P)\n",
    "print(xk_coeffs)\n",
    "print(\"Maximum gain for x_{k-delta}:\", np.argmax(xk_coeffs) == delta)"
   ]
  },
  {
   "cell_type": "code",
   "execution_count": 93,
   "metadata": {
    "scrolled": true
   },
   "outputs": [
    {
     "name": "stdout",
     "output_type": "stream",
     "text": [
      "SNR_biased: 10.761218135619552\n",
      "SNR_biased (dB) 10.318614348651678\n",
      "SNR_unbiased: 11.761218135619552\n",
      "SNR_unbiased (dB) 10.704523049187294\n"
     ]
    }
   ],
   "source": [
    "# finding SNR\n",
    "signal_power = xk_coeffs[0,delta]**2\n",
    "noise_power = sigma2*np.sum(w**2)\n",
    "isi_power = np.sum(xk_coeffs**2) - signal_power\n",
    "SNR_b = signal_power/(isi_power + noise_power)\n",
    "print(\"SNR_biased:\", SNR_b)\n",
    "print(\"SNR_biased (dB)\", 10*np.log10(SNR_b))\n",
    "\n",
    "signal_power = 1\n",
    "isi_power = isi_power + (1 - xk_coeffs[0,delta])**2\n",
    "SNR_ub = signal_power/(isi_power + noise_power)\n",
    "print(\"SNR_unbiased:\", SNR_ub)\n",
    "print(\"SNR_unbiased (dB)\", 10*np.log10(SNR_ub))"
   ]
  }
 ],
 "metadata": {
  "kernelspec": {
   "display_name": "Python 3",
   "language": "python",
   "name": "python3"
  },
  "language_info": {
   "codemirror_mode": {
    "name": "ipython",
    "version": 3
   },
   "file_extension": ".py",
   "mimetype": "text/x-python",
   "name": "python",
   "nbconvert_exporter": "python",
   "pygments_lexer": "ipython3",
   "version": "3.6.8"
  }
 },
 "nbformat": 4,
 "nbformat_minor": 2
}
