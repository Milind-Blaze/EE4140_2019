{
 "cells": [
  {
   "cell_type": "markdown",
   "metadata": {},
   "source": [
    "# Simulating OFDM\n",
    "\n"
   ]
  },
  {
   "cell_type": "code",
   "execution_count": 1,
   "metadata": {},
   "outputs": [],
   "source": [
    "import matplotlib\n",
    "import matplotlib.pyplot as plt\n",
    "matplotlib.rcParams.update({'font.size': 22})\n",
    "import numpy as np\n",
    "import scipy \n",
    "from scipy.stats import norm\n",
    "import sys\n",
    "import yaml\n",
    "\n",
    "sys.path.insert(0,\"../\")\n",
    "from tools import *"
   ]
  },
  {
   "cell_type": "code",
   "execution_count": 2,
   "metadata": {},
   "outputs": [],
   "source": [
    "# Parameters for the problem statement\n",
    "\n",
    "# Frequency domain characteristics\n",
    "f_s = 128.8e6               # sampling rate in SPS (symbols/second; symbol = complex number?)\n",
    "num_subcarriers = 4096      # total number of subcarriers, including both the useful and not useful ones\n",
    "scs = 30e3                  # subcarrier spacing in Hz\n",
    "num_useful_sub = 3072       # total number of useful subcarriers along which data is transmitted\n",
    "\n",
    "\n",
    "# Timing synchronization and channel estimation\n",
    "preamble_length = 64               # length of the preamble sequence\n",
    "path_preamble = \"./preamble.mat\"   # path to the file containing preamble to be used for timing synchronization\n",
    "path_pilots = \"./pilots.mat\"       # path to the file containing pilots for channel estimation\n",
    "\n",
    "# Time domain structure\n",
    "num_ofdm_slot = 14          # number of ofdm symbols per slot\n",
    "CP_one = 352                # CP of the first symbol\n",
    "CP_n = 288                  # CP of the remaining 13 symbols\n",
    "\n",
    "\n",
    "# Channel information       \n",
    "k = 5                       # number of taps in the channel frequency response (discrete)\n"
   ]
  },
  {
   "cell_type": "code",
   "execution_count": 2,
   "metadata": {},
   "outputs": [],
   "source": [
    "# def functions for \n",
    "\n",
    "\n",
    "\n",
    "# defining a few necessary functions\n",
    "\n",
    "def simulate_QAM_generic():\n",
    "    \"\"\"Function to simulate generation, transmission and receiving of QAM symbols, generic channel\n",
    "    \"\"\"\n",
    "    \n",
    "    pass\n",
    "\n",
    "def construct_Pmatrix(P,)\n",
    "\n",
    "def visualise_QAM(M, mapping):\n",
    "    \"\"\"Function to plot the constellation\n",
    "    \n",
    "    Calling this function results in a plot of the desired consteallation\n",
    "    \n",
    "    Args:\n",
    "        M (int): number of constellation points in the M-QAM\n",
    "        mapping (list): mapping of symbols to a coordinate \n",
    "            system\n",
    "        \n",
    "    \"\"\"\n",
    "    \n",
    "    plt.figure(figsize = (10,8))\n",
    "    plt.title(str(M) + \"-QAM\")\n",
    "    plt.xlabel(\"$\\phi_1$\")\n",
    "    plt.ylabel(\"$\\phi_2$\")\n",
    "    plt.grid()\n",
    "    plt.scatter(mapping[:,0], mapping[:,1])\n",
    "    plt.axhline(linewidth=2, color='k')\n",
    "    plt.axvline(linewidth=2, color='k')\n",
    "    plt.show()\n",
    "    plt.close()"
   ]
  },
  {
   "cell_type": "code",
   "execution_count": 4,
   "metadata": {},
   "outputs": [],
   "source": [
    "# defining the channel and parameters of transmission\n",
    "\n",
    "P = np.array([0.9, 1])\n",
    "delta = 2\n",
    "N_f = 3\n",
    "v = 1 \n",
    "E = 1"
   ]
  },
  {
   "cell_type": "code",
   "execution_count": null,
   "metadata": {},
   "outputs": [],
   "source": []
  }
 ],
 "metadata": {
  "kernelspec": {
   "display_name": "Python 3",
   "language": "python",
   "name": "python3"
  },
  "language_info": {
   "codemirror_mode": {
    "name": "ipython",
    "version": 3
   },
   "file_extension": ".py",
   "mimetype": "text/x-python",
   "name": "python",
   "nbconvert_exporter": "python",
   "pygments_lexer": "ipython3",
   "version": "3.6.8"
  }
 },
 "nbformat": 4,
 "nbformat_minor": 2
}
